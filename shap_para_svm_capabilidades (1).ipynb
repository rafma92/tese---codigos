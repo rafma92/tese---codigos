{
  "nbformat": 4,
  "nbformat_minor": 0,
  "metadata": {
    "colab": {
      "provenance": []
    },
    "kernelspec": {
      "name": "python3",
      "display_name": "Python 3"
    },
    "language_info": {
      "name": "python"
    }
  },
  "cells": [
    {
      "cell_type": "markdown",
      "source": [
        "# **Carregar conjunto de dados**"
      ],
      "metadata": {
        "id": "g-j01hOodHx2"
      }
    },
    {
      "cell_type": "code",
      "execution_count": null,
      "metadata": {
        "id": "kNN272Poc96b"
      },
      "outputs": [],
      "source": [
        "import pandas as pd\n",
        "from sklearn.ensemble import RandomForestClassifier\n",
        "\n",
        "df = pd.read_excel('/Cap - Rotulados ELECTRE TRI-rC.xlsx')\n",
        "df.set_index('Suppliers', inplace=True)\n",
        "display(df.head())  # Mostra as primeiras linhas do DataFrame\n",
        "\n",
        "\n",
        "\n",
        "X_criterios = df.iloc[:, 0:9].values\n",
        "\n",
        "X_criterios\n",
        "\n",
        "Y_classe = df.iloc[:, 9].values\n",
        "\n",
        "Y_classe"
      ]
    },
    {
      "cell_type": "markdown",
      "source": [
        "# **Treinando modelo final**"
      ],
      "metadata": {
        "id": "_p40VQqVdSCo"
      }
    },
    {
      "cell_type": "code",
      "source": [
        "from sklearn.svm import SVC\n",
        "\n",
        "svc_final = SVC(probability=True, random_state=1, C=1.0, degree=1, kernel='linear', tol=0.01)\n",
        "svc_final.fit(X_criterios, Y_classe)\n"
      ],
      "metadata": {
        "id": "WVtcGcjMdNEF"
      },
      "execution_count": null,
      "outputs": []
    },
    {
      "cell_type": "code",
      "source": [
        "\n",
        "from sklearn.metrics import f1_score, make_scorer, accuracy_score\n",
        "\n",
        "# Previsões\n",
        "previsao = svc_final.predict(X_criterios)\n",
        "\n",
        "# Calculando a acurácia (não necessário para o f1, mas deixado para referência)\n",
        "accuracy = accuracy_score(Y_classe, previsao)\n",
        "print(\"Acurácia:\", accuracy)\n"
      ],
      "metadata": {
        "id": "4MY6AH18yA8F"
      },
      "execution_count": null,
      "outputs": []
    },
    {
      "cell_type": "code",
      "source": [
        "Y_classe"
      ],
      "metadata": {
        "id": "3cV6icoNyI38"
      },
      "execution_count": null,
      "outputs": []
    },
    {
      "cell_type": "code",
      "source": [
        "previsao"
      ],
      "metadata": {
        "id": "EMq2PcWGyJei"
      },
      "execution_count": null,
      "outputs": []
    },
    {
      "cell_type": "markdown",
      "source": [
        "# **SHAP**"
      ],
      "metadata": {
        "id": "80Xs0TVmdZQv"
      }
    },
    {
      "cell_type": "code",
      "source": [
        "!pip install shap"
      ],
      "metadata": {
        "id": "X8JSR6jCdbfn"
      },
      "execution_count": null,
      "outputs": []
    },
    {
      "cell_type": "code",
      "source": [
        "from sklearn.svm import SVC\n",
        "import numpy as np\n",
        "import shap\n"
      ],
      "metadata": {
        "id": "8tieALS9ddB2"
      },
      "execution_count": null,
      "outputs": []
    },
    {
      "cell_type": "code",
      "source": [
        "# Nomes dos novos features\n",
        "feature_names = ['Critério 1', 'Critério 2', 'Critério 3', 'Critério 4', 'Critério 5', 'Critério 6', 'Critério 7', 'Critério 8', 'Critério 9']\n"
      ],
      "metadata": {
        "id": "Q5OOxa3bnMOz"
      },
      "execution_count": null,
      "outputs": []
    },
    {
      "cell_type": "code",
      "source": [
        "svc_final.predict_proba(X_criterios)[19]"
      ],
      "metadata": {
        "id": "_oRF9965dfuT"
      },
      "execution_count": null,
      "outputs": []
    },
    {
      "cell_type": "code",
      "source": [
        "svc_final.predict(X_criterios)[19]"
      ],
      "metadata": {
        "id": "VHELfDURgZNB"
      },
      "execution_count": null,
      "outputs": []
    },
    {
      "cell_type": "code",
      "source": [
        "# Get SHAP values\n",
        "explainer = shap.Explainer(svc_final.predict_proba, X_criterios)\n",
        "shap_values_svm = explainer(X_criterios)"
      ],
      "metadata": {
        "id": "2xyGaLTydiYq"
      },
      "execution_count": null,
      "outputs": []
    },
    {
      "cell_type": "code",
      "source": [
        "# Atualize os valores SHAP com os novos nomes\n",
        "shap_values_svm.feature_names = feature_names"
      ],
      "metadata": {
        "id": "3B_11EINnUNj"
      },
      "execution_count": null,
      "outputs": []
    },
    {
      "cell_type": "code",
      "source": [
        "print(np.shape(shap_values_svm))"
      ],
      "metadata": {
        "id": "X-413GbsdjzW"
      },
      "execution_count": null,
      "outputs": []
    },
    {
      "cell_type": "code",
      "source": [
        "# Waterfall plot for first observation\n",
        "shap.plots.waterfall(shap_values_svm[12, :, 0])\n",
        "\n",
        "# Waterfall plot for first observation\n",
        "shap.plots.waterfall(shap_values_svm[12, :, 1])\n",
        "\n",
        "# Waterfall plot for first observation\n",
        "shap.plots.waterfall(shap_values_svm[12, :, 2])"
      ],
      "metadata": {
        "id": "DkE1u7bzdk_g"
      },
      "execution_count": null,
      "outputs": []
    },
    {
      "cell_type": "code",
      "source": [
        "import pandas as pd\n",
        "\n",
        "# Supondo que shap_values_nb seja o objeto contendo os valores SHAP\n",
        "# Extrair os valores SHAP para a 26ª observação (índice 25) para as três classes\n",
        "shap_values_class_0 = shap_values_svm[25, :, 0]\n",
        "shap_values_class_1 = shap_values_svm[25, :, 1]\n",
        "shap_values_class_2 = shap_values_svm[25, :, 2]\n",
        "\n",
        "\n",
        "\n",
        "# Criar DataFrames para cada classe\n",
        "df_shap_class_0 = pd.DataFrame({'Feature': feature_names, 'SHAP Value': shap_values_class_0.values})\n",
        "df_shap_class_1 = pd.DataFrame({'Feature': feature_names, 'SHAP Value': shap_values_class_1.values})\n",
        "df_shap_class_2 = pd.DataFrame({'Feature': feature_names, 'SHAP Value': shap_values_class_2.values})\n",
        "\n",
        "# Exibir os DataFrames\n",
        "print(\"SHAP values for class 0:\")\n",
        "print(df_shap_class_0)\n",
        "\n",
        "print(\"\\nSHAP values for class 1:\")\n",
        "print(df_shap_class_1)\n",
        "\n",
        "print(\"\\nSHAP values for class 2:\")\n",
        "print(df_shap_class_2)\n"
      ],
      "metadata": {
        "id": "kK7mbvjOVuL0"
      },
      "execution_count": null,
      "outputs": []
    },
    {
      "cell_type": "code",
      "source": [
        "# Número de fornecedores e classes\n",
        "num_fornecedores = 50\n",
        "num_classes = 3\n",
        "num_criterios = shap_values_svm.shape[1]\n",
        "\n",
        "# Nome das features (supondo que você tenha uma lista com os nomes das features)\n",
        "feature_names = [f'Critério {i+1}' for i in range(num_criterios)]\n",
        "\n",
        "# Criar uma lista para armazenar os dados\n",
        "dados = []\n",
        "\n",
        "# Iterar sobre cada fornecedor\n",
        "for i in range(num_fornecedores):\n",
        "    for c in range(num_classes):\n",
        "        shap_values = shap_values_svm[i, :, c].values\n",
        "        dados.append([f'Fornecedor {i+1}', f'Classe {c}'] + list(shap_values))\n",
        "\n",
        "# Criar o DataFrame\n",
        "colunas = ['Fornecedor', 'Classe'] + feature_names\n",
        "df_shap_values = pd.DataFrame(dados, columns=colunas)\n",
        "\n",
        "# Exibir o DataFrame\n",
        "print(df_shap_values)"
      ],
      "metadata": {
        "id": "OkjRjuzYV7kD"
      },
      "execution_count": null,
      "outputs": []
    },
    {
      "cell_type": "code",
      "source": [
        "from google.colab import drive\n",
        "drive.mount('/content/drive')"
      ],
      "metadata": {
        "id": "DD5ZpkhnWAHz"
      },
      "execution_count": null,
      "outputs": []
    },
    {
      "cell_type": "code",
      "source": [
        "# Especificar o caminho no Google Drive onde você quer salvar o arquivo\n",
        "file_path = '/content/drive/My Drive/shap_values_fornecedores_cap.csv'\n",
        "\n",
        "# Salvar o DataFrame em um arquivo CSV no Google Drive\n",
        "df_shap_values.to_csv(file_path, index=False)\n",
        "\n",
        "print(f\"Arquivo salvo em: {file_path}\")\n",
        "\n"
      ],
      "metadata": {
        "id": "kM3FyL2OWBPj"
      },
      "execution_count": null,
      "outputs": []
    },
    {
      "cell_type": "code",
      "source": [
        "# Especificar o caminho no Google Drive onde você quer salvar o arquivo\n",
        "file_path = '/content/drive/My Drive/shap_values_fornecedores_cap.csv'\n",
        "\n",
        "# Salvar o DataFrame em um arquivo CSV no Google Drive\n",
        "df_shap_values.to_csv(file_path, index=False)\n",
        "\n",
        "print(f\"Arquivo salvo em: {file_path}\")\n",
        "\n"
      ],
      "metadata": {
        "id": "xIusfxcfWFQb"
      },
      "execution_count": null,
      "outputs": []
    },
    {
      "cell_type": "code",
      "source": [
        "import matplotlib.pyplot as plt\n",
        "import numpy as np\n",
        "import pandas as pd\n",
        "\n",
        "# Supondo que shap_values_svm.values seja uma matriz numpy com as contribuições SHAP\n",
        "# e X_criteria.shape[1] é o número de características\n",
        "\n",
        "# Cálculo das médias dos valores SHAP para cada classe\n",
        "mean_0 = np.mean(np.abs(shap_values_svm.values[:, :, 0]), axis=0)\n",
        "mean_1 = np.mean(np.abs(shap_values_svm.values[:, :, 1]), axis=0)\n",
        "mean_2 = np.mean(np.abs(shap_values_svm.values[:, :, 2]), axis=0)\n"
      ],
      "metadata": {
        "id": "W4lqzo12wOmB"
      },
      "execution_count": null,
      "outputs": []
    },
    {
      "cell_type": "code",
      "source": [
        "mean_0\n"
      ],
      "metadata": {
        "id": "DIXsmosNwYwN"
      },
      "execution_count": null,
      "outputs": []
    },
    {
      "cell_type": "code",
      "source": [
        "import numpy as np\n",
        "\n",
        "# Normalizando os valores\n",
        "mean_0_normalized = mean_0 / np.sum(mean_0)\n",
        "\n",
        "# Exibindo os valores normalizados\n",
        "for i, mean_0_shap_importance in enumerate(mean_0_normalized):\n",
        "    print(f'Critério {i+1}: {mean_0_shap_importance}')"
      ],
      "metadata": {
        "id": "Dp9eDQjOxBsB"
      },
      "execution_count": null,
      "outputs": []
    },
    {
      "cell_type": "code",
      "source": [
        "mean_1\n"
      ],
      "metadata": {
        "id": "Q5FKwDlTwbRN"
      },
      "execution_count": null,
      "outputs": []
    },
    {
      "cell_type": "code",
      "source": [
        "import numpy as np\n",
        "\n",
        "# Normalizando os valores\n",
        "mean_1_normalized = mean_1 / np.sum(mean_1)\n",
        "\n",
        "# Exibindo os valores normalizados\n",
        "for i, mean_1_shap_importance in enumerate(mean_1_normalized):\n",
        "      print(f'Critério {i+1}: {mean_1_shap_importance}')"
      ],
      "metadata": {
        "id": "q_pFR4S-xmk0"
      },
      "execution_count": null,
      "outputs": []
    },
    {
      "cell_type": "code",
      "source": [
        "mean_2"
      ],
      "metadata": {
        "id": "VM5VQXLbwb5L"
      },
      "execution_count": null,
      "outputs": []
    },
    {
      "cell_type": "code",
      "source": [
        "import numpy as np\n",
        "\n",
        "# Normalizando os valores\n",
        "mean_2_normalized = mean_2 / np.sum(mean_2)\n",
        "\n",
        "# Exibindo os valores normalizados\n",
        "for i, mean_2_shap_importance in enumerate(mean_2_normalized):\n",
        "      print(f'Critério {i+1}: {mean_2_shap_importance}')"
      ],
      "metadata": {
        "id": "xiRqU4JZyNon"
      },
      "execution_count": null,
      "outputs": []
    },
    {
      "cell_type": "code",
      "source": [
        "\n",
        "# Criação do DataFrame para plotagem\n",
        "df = pd.DataFrame({\"Baixo\": mean_0, \"Médio\": mean_1, \"Alto\": mean_2})\n",
        "\n",
        "# Plotagem dos valores SHAP\n",
        "fig, ax = plt.subplots(1, 1, figsize=(20, 10))\n",
        "df.plot.bar(ax=ax)\n",
        "\n",
        "# Configuração dos rótulos dos eixos\n",
        "ax.set_ylabel('Mean SHAP', size=30)\n",
        "criteria_labels = [f'Critério {i+1}' for i in range(X_criterios.shape[1])]\n",
        "ax.set_xticklabels(criteria_labels, rotation=45, size=20)\n",
        "ax.legend(fontsize=30)\n",
        "\n",
        "plt.show()\n"
      ],
      "metadata": {
        "id": "sADw1-V1n3JK"
      },
      "execution_count": null,
      "outputs": []
    },
    {
      "cell_type": "code",
      "source": [
        "\n",
        "# Criação do DataFrame para plotagem\n",
        "df = pd.DataFrame({\"Baixo\": mean_0, \"Médio\": mean_1, \"Alto\": mean_2})\n",
        "\n",
        "# Plotagem dos valores SHAP\n",
        "fig, ax = plt.subplots(1, 1, figsize=(20, 10))\n",
        "df.plot.bar(ax=ax)\n",
        "\n",
        "# Configuração dos rótulos dos eixos\n",
        "ax.set_ylabel('Mean SHAP', size=30)\n",
        "criteria_labels = [f'Critério {i+1}' for i in range(X_criterios.shape[1])]\n",
        "ax.set_xticklabels(criteria_labels, rotation=45, size=20)\n",
        "ax.legend(fontsize=30)\n",
        "\n",
        "plt.show()\n"
      ],
      "metadata": {
        "id": "7Czj5VC7yQKW"
      },
      "execution_count": null,
      "outputs": []
    },
    {
      "cell_type": "code",
      "source": [
        "import pandas as pd\n",
        "import matplotlib.pyplot as plt\n",
        "\n",
        "\n",
        "\n",
        "# Criação do DataFrame para plotagem\n",
        "df = pd.DataFrame({\n",
        "    \"Baixo\": mean_0,\n",
        "    \"Médio\": mean_1,\n",
        "    \"Alto\": mean_2\n",
        "})\n",
        "\n",
        "# Cálculo do peso global para cada critério\n",
        "df['Peso Global'] = df.sum(axis=1)\n",
        "\n",
        "# Exibindo os valores absolutos dos pesos globais\n",
        "print(\"Valores absolutos dos pesos globais:\")\n",
        "print(df['Peso Global'])\n",
        "\n",
        "\n",
        "# Plotagem dos pesos globais\n",
        "fig, ax = plt.subplots(figsize=(20, 10))\n",
        "df['Peso Global'].plot.bar(ax=ax)\n",
        "\n",
        "# Configuração dos rótulos dos eixos\n",
        "ax.set_ylabel('Peso Global', size=30)\n",
        "criteria_labels = [f'Critério {i+1}' for i in range(df.shape[0])]\n",
        "ax.set_xticklabels(criteria_labels, rotation=45, size=20)\n",
        "plt.show()"
      ],
      "metadata": {
        "id": "SmjdXgJmCZZ6"
      },
      "execution_count": null,
      "outputs": []
    },
    {
      "cell_type": "code",
      "source": [
        "df = pd.DataFrame({\n",
        "    \"Baixo\": mean_0,\n",
        "    \"Médio\": mean_1,\n",
        "    \"Alto\": mean_2\n",
        "})\n",
        "\n",
        "# Cálculo do peso global para cada critério\n",
        "df['Peso Global'] = df.sum(axis=1)\n",
        "\n",
        "df"
      ],
      "metadata": {
        "id": "P7DNdPVWNV3t"
      },
      "execution_count": null,
      "outputs": []
    },
    {
      "cell_type": "code",
      "source": [
        "# Normalização dos pesos globais\n",
        "df['Peso Global Normalizado'] = df['Peso Global'] / df['Peso Global'].sum()\n",
        "\n",
        "# Exibindo os valores absolutos dos pesos globais\n",
        "print(\"Valores absolutos dos pesos globais:\")\n",
        "print(df['Peso Global Normalizado'] )"
      ],
      "metadata": {
        "id": "bAWQfg-8Nk4Y"
      },
      "execution_count": null,
      "outputs": []
    },
    {
      "cell_type": "code",
      "source": [
        "import pandas as pd\n",
        "import matplotlib.pyplot as plt\n",
        "\n",
        "\n",
        "# Criação do DataFrame para plotagem\n",
        "df = pd.DataFrame({\n",
        "    \"Baixo\": mean_0,\n",
        "    \"Médio\": mean_1,\n",
        "    \"Alto\": mean_2\n",
        "})\n",
        "\n",
        "# Cálculo do peso global para cada critério\n",
        "df['Peso Global'] = df.sum(axis=1)\n",
        "\n",
        "# Ordenar o DataFrame pelos pesos globais em ordem decrescente\n",
        "df = df.sort_values(by='Peso Global', ascending=True)\n",
        "\n",
        "# Exibindo os valores absolutos dos pesos globais\n",
        "print(\"Valores absolutos dos pesos globais:\")\n",
        "print(df['Peso Global'])\n",
        "\n",
        "# Plotagem dos pesos globais em gráfico de barras horizontal\n",
        "fig, ax = plt.subplots(figsize=(10, 8))\n",
        "df['Peso Global'].plot.barh(ax=ax, color='blue')\n",
        "\n",
        "# Configuração dos rótulos dos eixos\n",
        "ax.set_xlabel('Valor Shapley', size=15)\n",
        "criteria_labels = [f'Critério {i+1}' for i in df.index]\n",
        "ax.set_yticklabels(criteria_labels, rotation=0, size=12)\n",
        "plt.show()"
      ],
      "metadata": {
        "id": "t55-pz4yanwV"
      },
      "execution_count": null,
      "outputs": []
    },
    {
      "cell_type": "code",
      "source": [
        "# get model predictions\n",
        "preds = svc_final.predict(X_criterios)\n",
        "\n",
        "new_shap_values = []\n",
        "for i, pred in enumerate(preds):\n",
        "    # get shap values for predicted class\n",
        "    new_shap_values.append(shap_values_svm.values[i][:,pred])"
      ],
      "metadata": {
        "id": "KPFZhX3QdsPe"
      },
      "execution_count": null,
      "outputs": []
    },
    {
      "cell_type": "code",
      "source": [
        "# replace shap values\n",
        "shap_values_svm.values = np.array(new_shap_values)\n",
        "print(shap_values_svm.shape)"
      ],
      "metadata": {
        "id": "nDFBPAAHdteI"
      },
      "execution_count": null,
      "outputs": []
    },
    {
      "cell_type": "code",
      "source": [
        "# Definindo os nomes das características\n",
        "feature_names = ['criterio1', 'criterio2', 'criterio3', 'criterio4', 'criterio5', 'criterio6', 'criterio7', 'criterio8', 'criterio9']"
      ],
      "metadata": {
        "id": "7Hu3X771dum3"
      },
      "execution_count": null,
      "outputs": []
    },
    {
      "cell_type": "code",
      "source": [
        "# Plotando os valores SHAP\n",
        "shap.summary_plot(shap_values_svm, X_criterios, feature_names=feature_names)\n",
        "\n"
      ],
      "metadata": {
        "id": "BI5BcQ3ldvnj"
      },
      "execution_count": null,
      "outputs": []
    },
    {
      "cell_type": "code",
      "source": [
        "# Plotando o resumo dos valores SHAP como um gráfico de barras\n",
        "shap.summary_plot(shap_values_svm, X_criterios, feature_names=feature_names, plot_type=\"bar\")"
      ],
      "metadata": {
        "id": "jbXqU0nkdw6Q"
      },
      "execution_count": null,
      "outputs": []
    },
    {
      "cell_type": "code",
      "source": [
        "import numpy as np\n",
        "import pandas as pd\n",
        "\n",
        "# Calculando a importância média de cada característica\n",
        "shap_values_mean = np.mean(np.abs(shap_values_svm.values), axis=0)\n",
        "\n",
        "# Agora você pode continuar com suas análises ou visualizações\n",
        "print(shap_values_mean)"
      ],
      "metadata": {
        "id": "fU1PlxX1dyvy"
      },
      "execution_count": null,
      "outputs": []
    },
    {
      "cell_type": "code",
      "source": [
        "# Exibindo os valores de shap_values_mean\n",
        "for i, shap_importance in enumerate(shap_values_mean):\n",
        "    print(f'Critério {i+1}: {shap_importance}')"
      ],
      "metadata": {
        "id": "XuxetRyHd0QE"
      },
      "execution_count": null,
      "outputs": []
    },
    {
      "cell_type": "code",
      "source": [
        "import numpy as np\n",
        "\n",
        "# Normalizando os valores\n",
        "shap_values_normalized = shap_values_mean / np.sum(shap_values_mean)\n",
        "\n",
        "# Exibindo os valores normalizados\n",
        "for i, shap_importance in enumerate(shap_values_normalized):\n",
        "    print(f'Critério {i+1}: {shap_importance}')"
      ],
      "metadata": {
        "id": "bsdG3ljrd1ix"
      },
      "execution_count": null,
      "outputs": []
    }
  ]
}