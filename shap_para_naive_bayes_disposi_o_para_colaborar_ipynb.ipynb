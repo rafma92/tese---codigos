{
  "nbformat": 4,
  "nbformat_minor": 0,
  "metadata": {
    "colab": {
      "provenance": [],
      "toc_visible": true
    },
    "kernelspec": {
      "name": "python3",
      "display_name": "Python 3"
    },
    "language_info": {
      "name": "python"
    }
  },
  "cells": [
    {
      "cell_type": "markdown",
      "source": [
        "# **Carregar conjunto de dados**"
      ],
      "metadata": {
        "id": "uPqxCkWtz-M1"
      }
    },
    {
      "cell_type": "code",
      "execution_count": null,
      "metadata": {
        "id": "UOm_wcSSz1OR"
      },
      "outputs": [],
      "source": [
        "import pandas as pd\n",
        "from sklearn.ensemble import RandomForestClassifier\n",
        "\n",
        "df = pd.read_excel('/Will - Rotulados ELECTRE TRI-rC.xlsx')\n",
        "df.set_index('Suppliers', inplace=True)\n",
        "display(df.head())  # Mostra as primeiras linhas do DataFrame\n",
        "\n",
        "\n",
        "\n",
        "X_criterios = df.iloc[:, 0:6].values\n",
        "\n",
        "X_criterios\n",
        "\n",
        "Y_classe = df.iloc[:, 6].values\n",
        "\n",
        "Y_classe"
      ]
    },
    {
      "cell_type": "markdown",
      "source": [
        "# **Treinando modelo final**"
      ],
      "metadata": {
        "id": "BoUTm0Z20Ec5"
      }
    },
    {
      "cell_type": "code",
      "source": [
        "from sklearn.naive_bayes import GaussianNB\n",
        "\n",
        "nb_final = GaussianNB(var_smoothing = 0.657933224657568)\n",
        "nb_final.fit(X_criterios, Y_classe)"
      ],
      "metadata": {
        "id": "faI6LtsQ0EBj"
      },
      "execution_count": null,
      "outputs": []
    },
    {
      "cell_type": "code",
      "source": [
        "\n",
        "from sklearn.metrics import f1_score, make_scorer, accuracy_score\n",
        "\n",
        "# Previsões\n",
        "previsao = nb_final.predict(X_criterios)\n",
        "\n",
        "# Calculando a acurácia (não necessário para o f1, mas deixado para referência)\n",
        "accuracy = accuracy_score(Y_classe, previsao)\n",
        "print(\"Acurácia:\", accuracy)\n"
      ],
      "metadata": {
        "id": "zLhBQESu7JbL"
      },
      "execution_count": null,
      "outputs": []
    },
    {
      "cell_type": "code",
      "source": [],
      "metadata": {
        "id": "VbKa20QA7AaI"
      },
      "execution_count": null,
      "outputs": []
    },
    {
      "cell_type": "markdown",
      "source": [
        "# **SHAP**"
      ],
      "metadata": {
        "id": "t51Lw7Fd1z8d"
      }
    },
    {
      "cell_type": "code",
      "source": [
        "!pip install shap"
      ],
      "metadata": {
        "id": "23TggRpS11-9"
      },
      "execution_count": null,
      "outputs": []
    },
    {
      "cell_type": "code",
      "source": [
        "from sklearn.svm import SVC\n",
        "import numpy as np\n",
        "import shap\n"
      ],
      "metadata": {
        "id": "4RrnVDZd16aL"
      },
      "execution_count": null,
      "outputs": []
    },
    {
      "cell_type": "code",
      "source": [
        "nb_final.predict_proba(X_criterios)[0]"
      ],
      "metadata": {
        "id": "Y_opiLKM176V"
      },
      "execution_count": null,
      "outputs": []
    },
    {
      "cell_type": "code",
      "source": [
        "nb_final.predict(X_criterios)[0]"
      ],
      "metadata": {
        "id": "BN4PHXbz2KgE"
      },
      "execution_count": null,
      "outputs": []
    },
    {
      "cell_type": "code",
      "source": [
        "# Nomes dos novos features\n",
        "feature_names = ['Critério 1', 'Critério 2', 'Critério 3', 'Critério 4', 'Critério 5', 'Critério 6']\n"
      ],
      "metadata": {
        "id": "Jd5-iRt_2yY0"
      },
      "execution_count": null,
      "outputs": []
    },
    {
      "cell_type": "code",
      "source": [
        "# Get SHAP values\n",
        "explainer = shap.Explainer(nb_final.predict_proba, X_criterios)\n",
        "shap_values_nb = explainer(X_criterios)"
      ],
      "metadata": {
        "id": "vWuZS6tx2Fm-"
      },
      "execution_count": null,
      "outputs": []
    },
    {
      "cell_type": "code",
      "source": [
        "# Atualize os valores SHAP com os novos nomes\n",
        "shap_values_nb.feature_names = feature_names"
      ],
      "metadata": {
        "id": "uYwf3ah421vZ"
      },
      "execution_count": null,
      "outputs": []
    },
    {
      "cell_type": "code",
      "source": [
        "nb_final.predict(X_criterios)[10]"
      ],
      "metadata": {
        "id": "ZSubujHo1tvY"
      },
      "execution_count": null,
      "outputs": []
    },
    {
      "cell_type": "code",
      "source": [
        "# Waterfall plot for first observation\n",
        "shap.plots.waterfall(shap_values_nb[16, :, 0])\n",
        "\n",
        "# Waterfall plot for first observation\n",
        "shap.plots.waterfall(shap_values_nb[16, :, 1])\n",
        "\n",
        "# Waterfall plot for first observation\n",
        "shap.plots.waterfall(shap_values_nb[16, :, 2])"
      ],
      "metadata": {
        "id": "3afzfZHt23P-"
      },
      "execution_count": null,
      "outputs": []
    },
    {
      "cell_type": "code",
      "source": [
        "import pandas as pd\n",
        "\n",
        "# Supondo que shap_values_nb seja o objeto contendo os valores SHAP\n",
        "# Extrair os valores SHAP para a 26ª observação (índice 25) para as três classes\n",
        "shap_values_class_0 = shap_values_nb[25, :, 0]\n",
        "shap_values_class_1 = shap_values_nb[25, :, 1]\n",
        "shap_values_class_2 = shap_values_nb[25, :, 2]\n",
        "\n",
        "\n",
        "\n",
        "# Criar DataFrames para cada classe\n",
        "df_shap_class_0 = pd.DataFrame({'Feature': feature_names, 'SHAP Value': shap_values_class_0.values})\n",
        "df_shap_class_1 = pd.DataFrame({'Feature': feature_names, 'SHAP Value': shap_values_class_1.values})\n",
        "df_shap_class_2 = pd.DataFrame({'Feature': feature_names, 'SHAP Value': shap_values_class_2.values})\n",
        "\n",
        "# Exibir os DataFrames\n",
        "print(\"SHAP values for class 0:\")\n",
        "print(df_shap_class_0)\n",
        "\n",
        "print(\"\\nSHAP values for class 1:\")\n",
        "print(df_shap_class_1)\n",
        "\n",
        "print(\"\\nSHAP values for class 2:\")\n",
        "print(df_shap_class_2)\n"
      ],
      "metadata": {
        "id": "9TO-Cps2UF4U"
      },
      "execution_count": null,
      "outputs": []
    },
    {
      "cell_type": "code",
      "source": [
        "# Número de fornecedores e classes\n",
        "num_fornecedores = 50\n",
        "num_classes = 3\n",
        "num_criterios = shap_values_nb.shape[1]\n",
        "\n",
        "# Nome das features (supondo que você tenha uma lista com os nomes das features)\n",
        "feature_names = [f'Critério {i+1}' for i in range(num_criterios)]\n",
        "\n",
        "# Criar uma lista para armazenar os dados\n",
        "dados = []\n",
        "\n",
        "# Iterar sobre cada fornecedor\n",
        "for i in range(num_fornecedores):\n",
        "    for c in range(num_classes):\n",
        "        shap_values = shap_values_nb[i, :, c].values\n",
        "        dados.append([f'Fornecedor {i+1}', f'Classe {c}'] + list(shap_values))\n",
        "\n",
        "# Criar o DataFrame\n",
        "colunas = ['Fornecedor', 'Classe'] + feature_names\n",
        "df_shap_values = pd.DataFrame(dados, columns=colunas)\n",
        "\n",
        "# Exibir o DataFrame\n",
        "print(df_shap_values)"
      ],
      "metadata": {
        "id": "cv_AE_FNXDJp"
      },
      "execution_count": null,
      "outputs": []
    },
    {
      "cell_type": "code",
      "source": [
        "from google.colab import drive\n",
        "drive.mount('/content/drive')"
      ],
      "metadata": {
        "id": "rlWw3t8xX987"
      },
      "execution_count": null,
      "outputs": []
    },
    {
      "cell_type": "code",
      "source": [],
      "metadata": {
        "id": "rdE5j3NqWAxs"
      },
      "execution_count": null,
      "outputs": []
    },
    {
      "cell_type": "code",
      "source": [
        "# Especificar o caminho no Google Drive onde você quer salvar o arquivo\n",
        "file_path = '/content/drive/My Drive/shap_values_fornecedores.csv'\n",
        "\n",
        "# Salvar o DataFrame em um arquivo CSV no Google Drive\n",
        "df_shap_values.to_csv(file_path, index=False)\n",
        "\n",
        "print(f\"Arquivo salvo em: {file_path}\")\n",
        "\n"
      ],
      "metadata": {
        "id": "MjwkIDMrXiO6"
      },
      "execution_count": null,
      "outputs": []
    },
    {
      "cell_type": "code",
      "source": [
        "df_shap_values.to_csv('/mnt/data/shap_values_fornecedores.csv', index=False)\n"
      ],
      "metadata": {
        "id": "mUFCx6w8Xytx"
      },
      "execution_count": null,
      "outputs": []
    },
    {
      "cell_type": "code",
      "source": [
        "import matplotlib.pyplot as plt\n",
        "import numpy as np\n",
        "import pandas as pd\n",
        "\n",
        "# Supondo que shap_values_svm.values seja uma matriz numpy com as contribuições SHAP\n",
        "# e X_criteria.shape[1] é o número de características\n",
        "\n",
        "# Cálculo das médias dos valores SHAP para cada classe\n",
        "mean_0 = np.mean(np.abs(shap_values_nb.values[:, :, 0]), axis=0)\n",
        "mean_1 = np.mean(np.abs(shap_values_nb.values[:, :, 1]), axis=0)\n",
        "mean_2 = np.mean(np.abs(shap_values_nb.values[:, :, 2]), axis=0)"
      ],
      "metadata": {
        "id": "HXcRoJKI27d9"
      },
      "execution_count": null,
      "outputs": []
    },
    {
      "cell_type": "code",
      "source": [
        "import numpy as np\n",
        "\n",
        "# Normalizando os valores\n",
        "mean_0_normalized = mean_0 / np.sum(mean_0)\n",
        "\n",
        "# Exibindo os valores normalizados\n",
        "for i, mean_0_shap_importance in enumerate(mean_0_normalized):\n",
        "    print(f'Critério {i+1}: {mean_0_shap_importance}')"
      ],
      "metadata": {
        "id": "PCxI0s4q2_Ym"
      },
      "execution_count": null,
      "outputs": []
    },
    {
      "cell_type": "code",
      "source": [
        "import numpy as np\n",
        "\n",
        "# Normalizando os valores\n",
        "mean_1_normalized = mean_1 / np.sum(mean_1)\n",
        "\n",
        "# Exibindo os valores normalizados\n",
        "for i, mean_1_shap_importance in enumerate(mean_1_normalized):\n",
        "      print(f'Critério {i+1}: {mean_1_shap_importance}')"
      ],
      "metadata": {
        "id": "Z7-9mrcu3Ar8"
      },
      "execution_count": null,
      "outputs": []
    },
    {
      "cell_type": "code",
      "source": [
        "import numpy as np\n",
        "\n",
        "# Normalizando os valores\n",
        "mean_2_normalized = mean_2 / np.sum(mean_2)\n",
        "\n",
        "# Exibindo os valores normalizados\n",
        "for i, mean_2_shap_importance in enumerate(mean_2_normalized):\n",
        "      print(f'Critério {i+1}: {mean_2_shap_importance}')"
      ],
      "metadata": {
        "id": "sZ0hSjKH3CKz"
      },
      "execution_count": null,
      "outputs": []
    },
    {
      "cell_type": "code",
      "source": [
        "\n",
        "# Criação do DataFrame para plotagem\n",
        "df = pd.DataFrame({\"Baixo\": mean_0, \"Médio\": mean_1, \"Alto\": mean_2})\n",
        "\n",
        "# Plotagem dos valores SHAP\n",
        "fig, ax = plt.subplots(1, 1, figsize=(20, 10))\n",
        "df.plot.bar(ax=ax)\n",
        "\n",
        "# Configuração dos rótulos dos eixos\n",
        "ax.set_ylabel('SHAP Médio', size=30)\n",
        "criteria_labels = [f'Critério {i+1}' for i in range(X_criterios.shape[1])]\n",
        "ax.set_xticklabels(criteria_labels, rotation=45, size=20)\n",
        "ax.legend(fontsize=30)\n",
        "\n",
        "plt.show()"
      ],
      "metadata": {
        "id": "TVQ9neVZ3DXx"
      },
      "execution_count": null,
      "outputs": []
    },
    {
      "cell_type": "code",
      "source": [
        "# Criação do DataFrame para plotagem\n",
        "df = pd.DataFrame({\"Baixo\": mean_0, \"Médio\": mean_1, \"Alto\": mean_2})\n",
        "\n",
        "# Plotagem dos valores SHAP\n",
        "fig, ax = plt.subplots(1, 1, figsize=(20, 10))\n",
        "df.plot.bar(ax=ax)\n",
        "\n",
        "# Configuração dos rótulos dos eixos\n",
        "ax.set_ylabel('SHAP Médio', size=30)\n",
        "criteria_labels = [f'Critério {i+1}' for i in range(df.shape[0])]\n",
        "ax.set_xticklabels(criteria_labels, rotation=45, size=20)\n",
        "ax.legend(fontsize=30)\n",
        "\n",
        "# Adicionar texto acima das barras\n",
        "def adicionar_valores_barras(ax, df):\n",
        "    for p in ax.patches:\n",
        "        ax.annotate(format(p.get_height(), '.2f'),\n",
        "                    (p.get_x() + p.get_width() / 2., p.get_height()),\n",
        "                    ha = 'center', va = 'center',\n",
        "                    xytext = (0, 10),\n",
        "                    textcoords = 'offset points',\n",
        "                    fontsize=20)\n",
        "\n",
        "adicionar_valores_barras(ax, df)\n",
        "\n",
        "plt.show()"
      ],
      "metadata": {
        "id": "a9FgBLO0SLFo"
      },
      "execution_count": null,
      "outputs": []
    },
    {
      "cell_type": "code",
      "source": [
        "# Criação do DataFrame para plotagem\n",
        "df = pd.DataFrame({\"Baixo\": mean_0_normalized, \"Médio\": mean_1_normalized, \"Alto\": mean_2_normalized})\n",
        "\n",
        "# Plotagem dos valores SHAP\n",
        "fig, ax = plt.subplots(1, 1, figsize=(20, 10))\n",
        "df.plot.bar(ax=ax)\n",
        "\n",
        "# Configuração dos rótulos dos eixos\n",
        "ax.set_ylabel('SHAP Médio', size=30)\n",
        "criteria_labels = [f'Critério {i+1}' for i in range(df.shape[0])]\n",
        "ax.set_xticklabels(criteria_labels, rotation=45, size=20)\n",
        "ax.legend(fontsize=30)\n",
        "\n",
        "# Adicionar texto acima das barras\n",
        "def adicionar_valores_barras(ax, df):\n",
        "    for p in ax.patches:\n",
        "        ax.annotate(format(p.get_height(), '.2f'),\n",
        "                    (p.get_x() + p.get_width() / 2., p.get_height()),\n",
        "                    ha = 'center', va = 'center',\n",
        "                    xytext = (0, 10),\n",
        "                    textcoords = 'offset points',\n",
        "                    fontsize=20)\n",
        "\n",
        "adicionar_valores_barras(ax, df)\n",
        "\n",
        "plt.show()"
      ],
      "metadata": {
        "id": "t2gyn2gySRkI"
      },
      "execution_count": null,
      "outputs": []
    },
    {
      "cell_type": "code",
      "source": [
        "# get model predictions\n",
        "preds = nb_final.predict(X_criterios)\n",
        "\n",
        "new_shap_values = []\n",
        "for i, pred in enumerate(preds):\n",
        "    # get shap values for predicted class\n",
        "    new_shap_values.append(shap_values_nb.values[i][:,pred])"
      ],
      "metadata": {
        "id": "tOQoD8sl3RLA"
      },
      "execution_count": null,
      "outputs": []
    },
    {
      "cell_type": "code",
      "source": [
        "# replace shap values\n",
        "shap_values_nb.values = np.array(new_shap_values)\n",
        "print(shap_values_nb.shape)"
      ],
      "metadata": {
        "id": "YQnGh68d3SQJ"
      },
      "execution_count": null,
      "outputs": []
    },
    {
      "cell_type": "code",
      "source": [
        "# Definindo os nomes das características\n",
        "feature_names = ['criterio1', 'criterio2', 'criterio3', 'criterio4', 'criterio5', 'criterio6']"
      ],
      "metadata": {
        "id": "-fp9w05Z3S8R"
      },
      "execution_count": null,
      "outputs": []
    },
    {
      "cell_type": "code",
      "source": [
        "# Plotando os valores SHAP\n",
        "shap.summary_plot(shap_values_nb, X_criterios, feature_names=feature_names)\n"
      ],
      "metadata": {
        "id": "DpTYhLYt3T0o"
      },
      "execution_count": null,
      "outputs": []
    },
    {
      "cell_type": "code",
      "source": [
        "# Plotando o resumo dos valores SHAP como um gráfico de barras\n",
        "shap.summary_plot(shap_values_nb, X_criterios, feature_names=feature_names, plot_type=\"bar\")"
      ],
      "metadata": {
        "id": "N1C_pgf23VnI"
      },
      "execution_count": null,
      "outputs": []
    },
    {
      "cell_type": "code",
      "source": [
        "import numpy as np\n",
        "import pandas as pd\n",
        "\n",
        "# Calculando a importância média de cada característica\n",
        "shap_values_mean = np.mean(np.abs(shap_values_nb.values), axis=0)\n",
        "\n",
        "# Agora você pode continuar com suas análises ou visualizações\n",
        "print(shap_values_mean)"
      ],
      "metadata": {
        "id": "-4q_EZn03W7i"
      },
      "execution_count": null,
      "outputs": []
    },
    {
      "cell_type": "code",
      "source": [
        "# Exibindo os valores de shap_values_mean\n",
        "for i, shap_importance in enumerate(shap_values_mean):\n",
        "    print(f'Critério {i+1}: {shap_importance}')"
      ],
      "metadata": {
        "id": "2hbQ7D-Q3X9i"
      },
      "execution_count": null,
      "outputs": []
    },
    {
      "cell_type": "code",
      "source": [
        "import numpy as np\n",
        "\n",
        "# Normalizando os valores\n",
        "shap_values_normalized = shap_values_mean / np.sum(shap_values_mean)\n",
        "\n",
        "# Exibindo os valores normalizados\n",
        "for i, shap_importance in enumerate(shap_values_normalized):\n",
        "    print(f'Critério {i+1}: {shap_importance}')"
      ],
      "metadata": {
        "id": "iaWi7_lV3ZSQ"
      },
      "execution_count": null,
      "outputs": []
    },
    {
      "cell_type": "code",
      "source": [],
      "metadata": {
        "id": "M9bbDkTU88Xt"
      },
      "execution_count": null,
      "outputs": []
    },
    {
      "cell_type": "markdown",
      "source": [
        "# **Treinando DT**"
      ],
      "metadata": {
        "id": "KW3MMZmM9XJf"
      }
    },
    {
      "cell_type": "code",
      "source": [
        "from sklearn.tree import DecisionTreeClassifier\n",
        "import matplotlib.pyplot as plt\n",
        "from sklearn.tree import plot_tree\n",
        "\n",
        "# Ajustar o modelo da árvore de decisão\n",
        "dt_final = DecisionTreeClassifier(\n",
        "    criterion='gini',\n",
        "    max_depth=None,\n",
        "    max_features=None,\n",
        "    min_samples_leaf=2,\n",
        "    min_samples_split=2,\n",
        "    splitter='random',\n",
        "    random_state=0\n",
        ")\n",
        "dt_final.fit(X_criterios, Y_classe)\n"
      ],
      "metadata": {
        "id": "SfiT1JWh9btR"
      },
      "execution_count": null,
      "outputs": []
    },
    {
      "cell_type": "code",
      "source": [
        "# Converter os nomes das classes para strings\n",
        "class_names = [str(cls) for cls in dt_final.classes_]\n",
        "\n",
        "# Visualizar a árvore de decisão\n",
        "plt.figure(figsize=(20,10))\n",
        "plot_tree(dt_final, filled=True, feature_names=df.columns[:6], class_names=class_names)\n",
        "plt.show()"
      ],
      "metadata": {
        "id": "_Oc8dbOZ-ASm"
      },
      "execution_count": null,
      "outputs": []
    },
    {
      "cell_type": "code",
      "source": [
        "from sklearn.metrics import accuracy_score, f1_score\n",
        "\n",
        "# Fazer previsões com o modelo ajustado\n",
        "Y_pred = dt_final.predict(X_criterios)\n",
        "\n",
        "# Calcular a acurácia\n",
        "accuracy = accuracy_score(Y_classe, Y_pred)\n",
        "print(f'Acurácia: {accuracy:.2f}')\n",
        "\n",
        "# Calcular o macro F1-score\n",
        "macro_f1 = f1_score(Y_classe, Y_pred, average='macro')\n",
        "print(f'Macro F1-score: {macro_f1:.2f}')"
      ],
      "metadata": {
        "id": "tUSgChHNDTDq"
      },
      "execution_count": null,
      "outputs": []
    }
  ]
}